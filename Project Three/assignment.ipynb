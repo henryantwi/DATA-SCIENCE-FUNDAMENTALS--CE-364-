{
 "cells": [
  {
   "cell_type": "markdown",
   "id": "18d8cb9015a704e5",
   "metadata": {},
   "source": "# Data Visualization Exercise 😊"
  },
  {
   "cell_type": "code",
   "id": "395abbf5a5aaa84b",
   "metadata": {},
   "source": [
    "import pandas as pd\n",
    "from pandas import DataFrame\n",
    "import numpy as np\n",
    "import matplotlib.pyplot as plt"
   ],
   "outputs": [],
   "execution_count": null
  },
  {
   "cell_type": "code",
   "id": "b88941dff03075d3",
   "metadata": {},
   "source": [
    "data = pd.read_csv(\"./countries-of-the-world.csv\")"
   ],
   "outputs": [],
   "execution_count": null
  },
  {
   "cell_type": "code",
   "id": "ec8202bd4890e16b",
   "metadata": {},
   "source": [
    "# Cleaning data\n",
    "\n",
    "data.head()"
   ],
   "outputs": [],
   "execution_count": null
  },
  {
   "cell_type": "markdown",
   "id": "305d6783",
   "metadata": {
    "ExecuteTime": {
     "end_time": "2024-07-31T15:50:04.582400Z",
     "start_time": "2024-07-31T15:50:04.558790Z"
    }
   },
   "source": [
    "#### Renaming columns"
   ]
  },
  {
   "cell_type": "code",
   "id": "3223ff3e",
   "metadata": {},
   "source": [
    "columns_to_rename: dict = {\n",
    "    \"Area (sq. mi.)\": \"Area_(sq. mi.)\",\n",
    "    \"Pop. Density (per sq. mi.)\": \"Pop_Density_(per sq. mi.)\",\n",
    "    \"Coastline (coast/area ratio)\": \"Coastline_(coast/area ratio)\",\n",
    "    \"Net migration\": \"Net_migration\",\n",
    "    \"Infant mortality (per 1000 births)\": \"Infant_mortality_(per 1000 births)\",\n",
    "    \"GDP ($ per capita)\": \"GDP_($ per capita)\",\n",
    "    \"Literacy (%)\": \"Literacy_(%)\",\n",
    "    \"Phones (per 1000)\": \"Phones_(per 1000)\",\n",
    "    \"Arable (%)\": \"Arable_(%)\",\n",
    "    \"Crops (%)\": \"Crops_(%)\",\n",
    "    \"Other (%)\": \"Other_(%)\"\n",
    "}\n",
    "\n",
    "data = data.rename(columns=columns_to_rename)\n",
    "\n",
    "print(data.columns)"
   ],
   "outputs": [],
   "execution_count": null
  },
  {
   "cell_type": "markdown",
   "id": "2eeb674b",
   "metadata": {},
   "source": "##### Checking for Null and NaN fields and dropping them "
  },
  {
   "cell_type": "code",
   "id": "bedf1471",
   "metadata": {
    "scrolled": true
   },
   "source": [
    "data.isnull().any()"
   ],
   "outputs": [],
   "execution_count": null
  },
  {
   "cell_type": "code",
   "id": "5da897ed",
   "metadata": {},
   "source": [
    "# Identify columns with NaN values\n",
    "columns_with_nan = data.columns[data.isna().any()].tolist()\n",
    "\n",
    "# Set NaN values in these columns to 0\n",
    "data[columns_with_nan] = data[columns_with_nan].fillna(0)\n",
    "\n",
    "data.isnull().any()"
   ],
   "outputs": [],
   "execution_count": null
  },
  {
   "cell_type": "markdown",
   "id": "bb446c73",
   "metadata": {},
   "source": [
    "##### Checking for Duplicated Rows"
   ]
  },
  {
   "cell_type": "code",
   "id": "e4b6e400",
   "metadata": {},
   "source": [
    "duplicated_rows= data[data.duplicated()]\n",
    "print(duplicated_rows)"
   ],
   "outputs": [],
   "execution_count": null
  },
  {
   "cell_type": "markdown",
   "id": "be869cac",
   "metadata": {},
   "source": [
    "##### Checking Data Type"
   ]
  },
  {
   "cell_type": "code",
   "id": "36cb238a",
   "metadata": {},
   "source": [
    "data.dtypes"
   ],
   "outputs": [],
   "execution_count": null
  },
  {
   "cell_type": "code",
   "id": "03ddfaea",
   "metadata": {},
   "source": [
    "data['Pop_Density_(per sq. mi.)'] = data['Pop_Density_(per sq. mi.)'].astype(str)"
   ],
   "outputs": [],
   "execution_count": null
  },
  {
   "cell_type": "code",
   "id": "5ce7b308",
   "metadata": {},
   "source": [
    "# Convert all values to strings and replace commas with periods\n",
    "columns_to_convert = [\n",
    "    'Pop_Density_(per sq. mi.)', 'Coastline_(coast/area ratio)', 'Net_migration',\n",
    "    'Infant_mortality_(per 1000 births)', 'Literacy_(%)', 'Phones_(per 1000)',\n",
    "    'Arable_(%)', 'Crops_(%)', 'Other_(%)', 'Climate', 'Birthrate', 'Deathrate',\n",
    "    'Agriculture', 'Industry', 'Service'\n",
    "]\n",
    "\n",
    "for column in columns_to_convert:\n",
    "    data[column] = data[column].astype(str).str.replace(',', '.').astype(float)\n",
    "    \n",
    "# Convert integer columns\n",
    "data['Population'] = data['Population'].astype(int)\n",
    "data['Area_(sq. mi.)'] = data['Area_(sq. mi.)'].astype(int)\n",
    "data['GDP_($ per capita)'] = data['GDP_($ per capita)'].astype(int)\n",
    "\n",
    "data.dtypes"
   ],
   "outputs": [],
   "execution_count": null
  },
  {
   "cell_type": "code",
   "id": "91553bfd50e0409f",
   "metadata": {},
   "source": [
    "data.head(50)"
   ],
   "outputs": [],
   "execution_count": null
  },
  {
   "cell_type": "code",
   "id": "c79fd83996665a43",
   "metadata": {},
   "source": [
    "# Done with data cleaning"
   ],
   "outputs": [],
   "execution_count": null
  },
  {
   "metadata": {},
   "cell_type": "markdown",
   "source": "",
   "id": "2010372144f63edc"
  },
  {
   "cell_type": "markdown",
   "id": "c8d4a487ac809bb0",
   "metadata": {},
   "source": [
    "##### Question 1: Bar chart for first 20 countries in dataset given visualizing data on popultion."
   ]
  },
  {
   "cell_type": "code",
   "id": "ddcd1251c474d2ee",
   "metadata": {},
   "source": [
    "first_20_rows = data.head(20)\n",
    "\n",
    "X_countries = first_20_rows['Country']\n",
    "Y_population = first_20_rows['Population']\n",
    "\n",
    "plt.figure(figsize=(17, 13))\n",
    "plt.bar(X_countries, Y_population)\n",
    "plt.xticks(rotation=90)\n",
    "\n",
    "plt.title('Population of First 20 Countries')\n",
    "plt.xlabel(\"Country\")\n",
    "plt.ylabel(\"Population\")\n",
    "\n",
    "plt.show()"
   ],
   "outputs": [],
   "execution_count": null
  },
  {
   "cell_type": "markdown",
   "id": "f30d48c61b6b129e",
   "metadata": {},
   "source": [
    "##### Question 2: Line graph of Phones (per 1000) against the population data"
   ]
  },
  {
   "cell_type": "code",
   "id": "eb7f2c72a519f9aa",
   "metadata": {},
   "source": [
    "plt.figure(figsize=(17, 13))\n",
    "plt.plot(data['Population'], data['Phones_(per 1000)'], marker='o')\n",
    "plt.title('Phones (per 1000) vs Population')\n",
    "plt.xlabel('Population')\n",
    "plt.ylabel('Phones (per 1000)')\n",
    "plt.show()"
   ],
   "outputs": [],
   "execution_count": null
  },
  {
   "cell_type": "markdown",
   "id": "5682b069b00dd9b",
   "metadata": {},
   "source": "##### Question 3: Literacy rate against population"
  },
  {
   "cell_type": "code",
   "id": "774d05f70a8758c6",
   "metadata": {},
   "source": [
    "plt.figure(figsize=(17, 12))\n",
    "plt.plot(data['Population'], data['Literacy_(%)'], marker='o')\n",
    "plt.title('Literacy rate vs Population')\n",
    "plt.xlabel('Population')\n",
    "plt.ylabel('Literacy rate')\n",
    "plt.show()"
   ],
   "outputs": [],
   "execution_count": null
  },
  {
   "cell_type": "markdown",
   "id": "db4f81f5",
   "metadata": {},
   "source": "#### Question 4: Plot the data on infant mortality, birthrate and deathrate."
  },
  {
   "cell_type": "code",
   "id": "8d6e8b6b",
   "metadata": {},
   "source": [
    "print(data.columns)"
   ],
   "outputs": [],
   "execution_count": null
  },
  {
   "cell_type": "code",
   "id": "2c65f3b0",
   "metadata": {},
   "source": [
    "plt.figure(figsize=(23, 15))\n",
    "\n",
    "plt.plot(data['Country'], data['Infant_mortality_(per 1000 births)'], label='Infant Mortality')\n",
    "plt.plot(data['Country'], data['Birthrate'], label='Birthrate')\n",
    "plt.plot(data['Country'], data['Deathrate'], label='Deathrate')\n",
    "\n",
    "plt.xticks(rotation=90)\n",
    "\n",
    "plt.title('Infant Mortality, Birthrate, and Deathrate')\n",
    "plt.xlabel('Country')\n",
    "plt.ylabel('Rate')\n",
    "\n",
    "plt.legend()\n",
    "\n",
    "plt.show()"
   ],
   "outputs": [],
   "execution_count": null
  },
  {
   "cell_type": "markdown",
   "id": "0e4d514a",
   "metadata": {},
   "source": [
    "##### Question 5: GDP data against Agriculture, Industry and Service"
   ]
  },
  {
   "cell_type": "code",
   "id": "e9e268a8",
   "metadata": {},
   "source": [
    "plt.figure(figsize=(17, 12))\n",
    "\n",
    "plt.scatter(data['GDP_($ per capita)'], data['Agriculture'], label='Agriculture')\n",
    "plt.scatter(data['GDP_($ per capita)'], data['Industry'], label='Industry')\n",
    "plt.scatter(data['GDP_($ per capita)'], data['Service'], label='Service')\n",
    "\n",
    "plt.title('GDP vs Agriculture, Industry, and Service')\n",
    "plt.xlabel('GDP ($ per capita)')\n",
    "plt.ylabel('Percentage')\n",
    "\n",
    "plt.legend()\n",
    "\n",
    "plt.show()"
   ],
   "outputs": [],
   "execution_count": null
  },
  {
   "cell_type": "code",
   "id": "9747f8b6",
   "metadata": {},
   "source": [],
   "outputs": [],
   "execution_count": null
  }
 ],
 "metadata": {
  "kernelspec": {
   "display_name": "Python 3 (ipykernel)",
   "language": "python",
   "name": "python3"
  },
  "language_info": {
   "codemirror_mode": {
    "name": "ipython",
    "version": 3
   },
   "file_extension": ".py",
   "mimetype": "text/x-python",
   "name": "python",
   "nbconvert_exporter": "python",
   "pygments_lexer": "ipython3",
   "version": "3.9.12"
  }
 },
 "nbformat": 4,
 "nbformat_minor": 5
}
