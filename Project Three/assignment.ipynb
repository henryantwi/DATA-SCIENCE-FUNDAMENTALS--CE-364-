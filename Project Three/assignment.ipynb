{
 "cells": [
  {
   "metadata": {},
   "cell_type": "markdown",
   "source": [
    "Assignment:\n",
    "- Bar chart for first 20 countries in dataset given visualizing data on popultion.\n",
    "- Line graph of Phones (per 1000) against the population data\n",
    "- Literacy rate against population\n",
    "- Plot the data on infant mortality, birthrate and deathrate.\n",
    "- GDP data against Agriculture, Industry and Service"
   ],
   "id": "18d8cb9015a704e5"
  },
  {
   "metadata": {
    "ExecuteTime": {
     "end_time": "2024-07-31T15:30:45.691704Z",
     "start_time": "2024-07-31T15:30:45.676203Z"
    }
   },
   "cell_type": "code",
   "source": [
    "import pandas as pd\n",
    "from pandas import DataFrame\n",
    "import numpy as np\n",
    "import matplotlib.pyplot as plt"
   ],
   "id": "395abbf5a5aaa84b",
   "outputs": [],
   "execution_count": 3
  },
  {
   "metadata": {
    "ExecuteTime": {
     "end_time": "2024-07-31T15:32:02.963486Z",
     "start_time": "2024-07-31T15:32:02.934492Z"
    }
   },
   "cell_type": "code",
   "source": [
    "csv_file_path: str = \"./countries-of-the-world.csv\"\n",
    "\n",
    "data: DataFrame = pd.read_csv(csv_file_path)"
   ],
   "id": "b88941dff03075d3",
   "outputs": [],
   "execution_count": 5
  },
  {
   "metadata": {},
   "cell_type": "markdown",
   "source": "- Bar chart for first 20 countries in dataset given visualizing data on ",
   "id": "b49d025695b509b6"
  },
  {
   "metadata": {
    "ExecuteTime": {
     "end_time": "2024-07-31T15:54:07.385441Z",
     "start_time": "2024-07-31T15:54:07.358438Z"
    }
   },
   "cell_type": "code",
   "source": [
    "# Cleaning data\n",
    "\n",
    "data.head()"
   ],
   "id": "ec8202bd4890e16b",
   "outputs": [
    {
     "data": {
      "text/plain": [
       "           Country                               Region  Population  \\\n",
       "0     Afghanistan         ASIA (EX. NEAR EAST)             31056997   \n",
       "1         Albania   EASTERN EUROPE                          3581655   \n",
       "2         Algeria   NORTHERN AFRICA                        32930091   \n",
       "3  American Samoa   OCEANIA                                   57794   \n",
       "4         Andorra   WESTERN EUROPE                            71201   \n",
       "\n",
       "   Area_(sq. mi.) Pop_Density_(per sq. mi.) Coastline_(coast/area ratio)  \\\n",
       "0          647500                      48,0                         0,00   \n",
       "1           28748                     124,6                         1,26   \n",
       "2         2381740                      13,8                         0,04   \n",
       "3             199                     290,4                        58,29   \n",
       "4             468                     152,1                         0,00   \n",
       "\n",
       "  Net_migration Infant_mortality_(per 1000 births)  GDP_($ per capita)  \\\n",
       "0         23,06                             163,07               700.0   \n",
       "1         -4,93                              21,52              4500.0   \n",
       "2         -0,39                                 31              6000.0   \n",
       "3        -20,71                               9,27              8000.0   \n",
       "4           6,6                               4,05             19000.0   \n",
       "\n",
       "  Literacy_(%) Phones (per 1000) Arable (%) Crops (%) Other (%) Climate  \\\n",
       "0         36,0               3,2      12,13      0,22     87,65       1   \n",
       "1         86,5              71,2      21,09      4,42     74,49       3   \n",
       "2         70,0              78,1       3,22      0,25     96,53       1   \n",
       "3         97,0             259,5         10        15        75       2   \n",
       "4        100,0             497,2       2,22         0     97,78       3   \n",
       "\n",
       "  Birthrate Deathrate Agriculture Industry Service  \n",
       "0      46,6     20,34        0,38     0,24    0,38  \n",
       "1     15,11      5,22       0,232    0,188   0,579  \n",
       "2     17,14      4,61       0,101      0,6   0,298  \n",
       "3     22,46      3,27         NaN      NaN     NaN  \n",
       "4      8,71      6,25         NaN      NaN     NaN  "
      ],
      "text/html": [
       "<div>\n",
       "<style scoped>\n",
       "    .dataframe tbody tr th:only-of-type {\n",
       "        vertical-align: middle;\n",
       "    }\n",
       "\n",
       "    .dataframe tbody tr th {\n",
       "        vertical-align: top;\n",
       "    }\n",
       "\n",
       "    .dataframe thead th {\n",
       "        text-align: right;\n",
       "    }\n",
       "</style>\n",
       "<table border=\"1\" class=\"dataframe\">\n",
       "  <thead>\n",
       "    <tr style=\"text-align: right;\">\n",
       "      <th></th>\n",
       "      <th>Country</th>\n",
       "      <th>Region</th>\n",
       "      <th>Population</th>\n",
       "      <th>Area_(sq. mi.)</th>\n",
       "      <th>Pop_Density_(per sq. mi.)</th>\n",
       "      <th>Coastline_(coast/area ratio)</th>\n",
       "      <th>Net_migration</th>\n",
       "      <th>Infant_mortality_(per 1000 births)</th>\n",
       "      <th>GDP_($ per capita)</th>\n",
       "      <th>Literacy_(%)</th>\n",
       "      <th>Phones (per 1000)</th>\n",
       "      <th>Arable (%)</th>\n",
       "      <th>Crops (%)</th>\n",
       "      <th>Other (%)</th>\n",
       "      <th>Climate</th>\n",
       "      <th>Birthrate</th>\n",
       "      <th>Deathrate</th>\n",
       "      <th>Agriculture</th>\n",
       "      <th>Industry</th>\n",
       "      <th>Service</th>\n",
       "    </tr>\n",
       "  </thead>\n",
       "  <tbody>\n",
       "    <tr>\n",
       "      <th>0</th>\n",
       "      <td>Afghanistan</td>\n",
       "      <td>ASIA (EX. NEAR EAST)</td>\n",
       "      <td>31056997</td>\n",
       "      <td>647500</td>\n",
       "      <td>48,0</td>\n",
       "      <td>0,00</td>\n",
       "      <td>23,06</td>\n",
       "      <td>163,07</td>\n",
       "      <td>700.0</td>\n",
       "      <td>36,0</td>\n",
       "      <td>3,2</td>\n",
       "      <td>12,13</td>\n",
       "      <td>0,22</td>\n",
       "      <td>87,65</td>\n",
       "      <td>1</td>\n",
       "      <td>46,6</td>\n",
       "      <td>20,34</td>\n",
       "      <td>0,38</td>\n",
       "      <td>0,24</td>\n",
       "      <td>0,38</td>\n",
       "    </tr>\n",
       "    <tr>\n",
       "      <th>1</th>\n",
       "      <td>Albania</td>\n",
       "      <td>EASTERN EUROPE</td>\n",
       "      <td>3581655</td>\n",
       "      <td>28748</td>\n",
       "      <td>124,6</td>\n",
       "      <td>1,26</td>\n",
       "      <td>-4,93</td>\n",
       "      <td>21,52</td>\n",
       "      <td>4500.0</td>\n",
       "      <td>86,5</td>\n",
       "      <td>71,2</td>\n",
       "      <td>21,09</td>\n",
       "      <td>4,42</td>\n",
       "      <td>74,49</td>\n",
       "      <td>3</td>\n",
       "      <td>15,11</td>\n",
       "      <td>5,22</td>\n",
       "      <td>0,232</td>\n",
       "      <td>0,188</td>\n",
       "      <td>0,579</td>\n",
       "    </tr>\n",
       "    <tr>\n",
       "      <th>2</th>\n",
       "      <td>Algeria</td>\n",
       "      <td>NORTHERN AFRICA</td>\n",
       "      <td>32930091</td>\n",
       "      <td>2381740</td>\n",
       "      <td>13,8</td>\n",
       "      <td>0,04</td>\n",
       "      <td>-0,39</td>\n",
       "      <td>31</td>\n",
       "      <td>6000.0</td>\n",
       "      <td>70,0</td>\n",
       "      <td>78,1</td>\n",
       "      <td>3,22</td>\n",
       "      <td>0,25</td>\n",
       "      <td>96,53</td>\n",
       "      <td>1</td>\n",
       "      <td>17,14</td>\n",
       "      <td>4,61</td>\n",
       "      <td>0,101</td>\n",
       "      <td>0,6</td>\n",
       "      <td>0,298</td>\n",
       "    </tr>\n",
       "    <tr>\n",
       "      <th>3</th>\n",
       "      <td>American Samoa</td>\n",
       "      <td>OCEANIA</td>\n",
       "      <td>57794</td>\n",
       "      <td>199</td>\n",
       "      <td>290,4</td>\n",
       "      <td>58,29</td>\n",
       "      <td>-20,71</td>\n",
       "      <td>9,27</td>\n",
       "      <td>8000.0</td>\n",
       "      <td>97,0</td>\n",
       "      <td>259,5</td>\n",
       "      <td>10</td>\n",
       "      <td>15</td>\n",
       "      <td>75</td>\n",
       "      <td>2</td>\n",
       "      <td>22,46</td>\n",
       "      <td>3,27</td>\n",
       "      <td>NaN</td>\n",
       "      <td>NaN</td>\n",
       "      <td>NaN</td>\n",
       "    </tr>\n",
       "    <tr>\n",
       "      <th>4</th>\n",
       "      <td>Andorra</td>\n",
       "      <td>WESTERN EUROPE</td>\n",
       "      <td>71201</td>\n",
       "      <td>468</td>\n",
       "      <td>152,1</td>\n",
       "      <td>0,00</td>\n",
       "      <td>6,6</td>\n",
       "      <td>4,05</td>\n",
       "      <td>19000.0</td>\n",
       "      <td>100,0</td>\n",
       "      <td>497,2</td>\n",
       "      <td>2,22</td>\n",
       "      <td>0</td>\n",
       "      <td>97,78</td>\n",
       "      <td>3</td>\n",
       "      <td>8,71</td>\n",
       "      <td>6,25</td>\n",
       "      <td>NaN</td>\n",
       "      <td>NaN</td>\n",
       "      <td>NaN</td>\n",
       "    </tr>\n",
       "  </tbody>\n",
       "</table>\n",
       "</div>"
      ]
     },
     "execution_count": 19,
     "metadata": {},
     "output_type": "execute_result"
    }
   ],
   "execution_count": 19
  },
  {
   "metadata": {
    "ExecuteTime": {
     "end_time": "2024-07-31T15:50:04.582400Z",
     "start_time": "2024-07-31T15:50:04.558790Z"
    }
   },
   "cell_type": "code",
   "source": [
    "data = data.rename(columns={\n",
    "    \"Area (sq. mi.)\": \"Area_(sq. mi.)\",\n",
    "    \"Pop. Density (per sq. mi.)\": \"Pop_Density_(per sq. mi.)\",\n",
    "    \"Coastline (coast/area ratio)\": \"Coastline_(coast/area ratio)\",\n",
    "    \"Net migration\": \"Net_migration\",\n",
    "    \"Infant mortality (per 1000 births)\": \"Infant_mortality_(per 1000 births)\",\n",
    "    \"GDP ($ per capita)\": \"GDP_($ per capita)\",\n",
    "    \"Literacy (%)\": \"Literacy_(%)\",\n",
    "    \"Phones (per 1000)\": \"Phones_(per 1000)\",\n",
    "    \"Arable (%)\": \"Arable_(%)\",\n",
    "    \"Crops (%)\": \"Crops_(%)\",\n",
    "    \"Other (%)\": \"Other_(%)\",\n",
    "})"
   ],
   "id": "3416fc750bfc7742",
   "outputs": [],
   "execution_count": 13
  },
  {
   "metadata": {
    "ExecuteTime": {
     "end_time": "2024-07-31T15:50:07.521645Z",
     "start_time": "2024-07-31T15:50:07.510642Z"
    }
   },
   "cell_type": "code",
   "source": "data.dtypes",
   "id": "91553bfd50e0409f",
   "outputs": [
    {
     "data": {
      "text/plain": [
       "Country                                object\n",
       "Region                                 object\n",
       "Population                              int64\n",
       "Area_(sq. mi.)                          int64\n",
       "Pop_Density_(per sq. mi.)              object\n",
       "Coastline_(coast/area ratio)           object\n",
       "Net_migration                          object\n",
       "Infant_mortality_(per 1000 births)     object\n",
       "GDP_($ per capita)                    float64\n",
       "Literacy_(%)                           object\n",
       "Phones (per 1000)                      object\n",
       "Arable (%)                             object\n",
       "Crops (%)                              object\n",
       "Other (%)                              object\n",
       "Climate                                object\n",
       "Birthrate                              object\n",
       "Deathrate                              object\n",
       "Agriculture                            object\n",
       "Industry                               object\n",
       "Service                                object\n",
       "dtype: object"
      ]
     },
     "execution_count": 14,
     "metadata": {},
     "output_type": "execute_result"
    }
   ],
   "execution_count": 14
  },
  {
   "metadata": {
    "ExecuteTime": {
     "end_time": "2024-07-31T16:01:13.734716Z",
     "start_time": "2024-07-31T16:01:13.722722Z"
    }
   },
   "cell_type": "code",
   "source": "data.isnull().any()",
   "id": "c79fd83996665a43",
   "outputs": [
    {
     "data": {
      "text/plain": [
       "Country                               False\n",
       "Region                                False\n",
       "Population                            False\n",
       "Area_(sq. mi.)                        False\n",
       "Pop_Density_(per sq. mi.)             False\n",
       "Coastline_(coast/area ratio)          False\n",
       "Net_migration                         False\n",
       "Infant_mortality_(per 1000 births)    False\n",
       "GDP_($ per capita)                    False\n",
       "Literacy_(%)                          False\n",
       "Phones (per 1000)                      True\n",
       "Arable (%)                             True\n",
       "Crops (%)                              True\n",
       "Other (%)                              True\n",
       "Climate                                True\n",
       "Birthrate                              True\n",
       "Deathrate                              True\n",
       "Agriculture                            True\n",
       "Industry                               True\n",
       "Service                                True\n",
       "dtype: bool"
      ]
     },
     "execution_count": 30,
     "metadata": {},
     "output_type": "execute_result"
    }
   ],
   "execution_count": 30
  },
  {
   "metadata": {},
   "cell_type": "markdown",
   "source": "",
   "id": "42d7c2388d4ea39b"
  },
  {
   "metadata": {
    "ExecuteTime": {
     "end_time": "2024-07-31T15:55:49.255282Z",
     "start_time": "2024-07-31T15:55:49.247277Z"
    }
   },
   "cell_type": "code",
   "source": [
    "# data[data['Net_migration'].isna() == True]\n",
    "data['Net_migration'] = data['Net_migration'].fillna(0)"
   ],
   "id": "e744a0955f3489b8",
   "outputs": [],
   "execution_count": 21
  },
  {
   "metadata": {
    "ExecuteTime": {
     "end_time": "2024-07-31T15:57:26.901785Z",
     "start_time": "2024-07-31T15:57:26.870782Z"
    }
   },
   "cell_type": "code",
   "source": [
    "# data[data['Infant_mortality_(per 1000 births)'].isna() == True]\n",
    "data['Infant_mortality_(per 1000 births)'] = data['Infant_mortality_(per 1000 births)'].fillna(0)"
   ],
   "id": "6005e332d5191cba",
   "outputs": [
    {
     "data": {
      "text/plain": [
       "Empty DataFrame\n",
       "Columns: [Country, Region, Population, Area_(sq. mi.), Pop_Density_(per sq. mi.), Coastline_(coast/area ratio), Net_migration, Infant_mortality_(per 1000 births), GDP_($ per capita), Literacy_(%), Phones (per 1000), Arable (%), Crops (%), Other (%), Climate, Birthrate, Deathrate, Agriculture, Industry, Service]\n",
       "Index: []"
      ],
      "text/html": [
       "<div>\n",
       "<style scoped>\n",
       "    .dataframe tbody tr th:only-of-type {\n",
       "        vertical-align: middle;\n",
       "    }\n",
       "\n",
       "    .dataframe tbody tr th {\n",
       "        vertical-align: top;\n",
       "    }\n",
       "\n",
       "    .dataframe thead th {\n",
       "        text-align: right;\n",
       "    }\n",
       "</style>\n",
       "<table border=\"1\" class=\"dataframe\">\n",
       "  <thead>\n",
       "    <tr style=\"text-align: right;\">\n",
       "      <th></th>\n",
       "      <th>Country</th>\n",
       "      <th>Region</th>\n",
       "      <th>Population</th>\n",
       "      <th>Area_(sq. mi.)</th>\n",
       "      <th>Pop_Density_(per sq. mi.)</th>\n",
       "      <th>Coastline_(coast/area ratio)</th>\n",
       "      <th>Net_migration</th>\n",
       "      <th>Infant_mortality_(per 1000 births)</th>\n",
       "      <th>GDP_($ per capita)</th>\n",
       "      <th>Literacy_(%)</th>\n",
       "      <th>Phones (per 1000)</th>\n",
       "      <th>Arable (%)</th>\n",
       "      <th>Crops (%)</th>\n",
       "      <th>Other (%)</th>\n",
       "      <th>Climate</th>\n",
       "      <th>Birthrate</th>\n",
       "      <th>Deathrate</th>\n",
       "      <th>Agriculture</th>\n",
       "      <th>Industry</th>\n",
       "      <th>Service</th>\n",
       "    </tr>\n",
       "  </thead>\n",
       "  <tbody>\n",
       "  </tbody>\n",
       "</table>\n",
       "</div>"
      ]
     },
     "execution_count": 24,
     "metadata": {},
     "output_type": "execute_result"
    }
   ],
   "execution_count": 24
  },
  {
   "metadata": {
    "ExecuteTime": {
     "end_time": "2024-07-31T16:00:03.306244Z",
     "start_time": "2024-07-31T16:00:03.298241Z"
    }
   },
   "cell_type": "code",
   "source": [
    "# data[data['GDP_($ per capita)'].isna() == True]\n",
    "data['GDP_($ per capita)'] = data['GDP_($ per capita)'].fillna(0)"
   ],
   "id": "f524f6a4937d9b6c",
   "outputs": [],
   "execution_count": 26
  },
  {
   "metadata": {
    "ExecuteTime": {
     "end_time": "2024-07-31T16:01:00.551753Z",
     "start_time": "2024-07-31T16:01:00.528883Z"
    }
   },
   "cell_type": "code",
   "source": [
    "# data[data['Literacy_(%)'].isna() == True]\n",
    "data['Literacy_(%)'] = data['Literacy_(%)'].fillna(0)"
   ],
   "id": "7c40b29ba6857d63",
   "outputs": [],
   "execution_count": 29
  },
  {
   "metadata": {
    "ExecuteTime": {
     "end_time": "2024-07-31T16:08:54.278319Z",
     "start_time": "2024-07-31T16:08:54.267319Z"
    }
   },
   "cell_type": "code",
   "source": "data.isna().any()",
   "id": "111c37c6f4fde82b",
   "outputs": [
    {
     "data": {
      "text/plain": [
       "Country                               False\n",
       "Region                                False\n",
       "Population                            False\n",
       "Area_(sq. mi.)                        False\n",
       "Pop_Density_(per sq. mi.)             False\n",
       "Coastline_(coast/area ratio)          False\n",
       "Net_migration                         False\n",
       "Infant_mortality_(per 1000 births)    False\n",
       "GDP_($ per capita)                    False\n",
       "Literacy_(%)                          False\n",
       "Phones (per 1000)                      True\n",
       "Arable (%)                             True\n",
       "Crops (%)                              True\n",
       "Other (%)                              True\n",
       "Climate                                True\n",
       "Birthrate                              True\n",
       "Deathrate                              True\n",
       "Agriculture                            True\n",
       "Industry                               True\n",
       "Service                                True\n",
       "dtype: bool"
      ]
     },
     "execution_count": 35,
     "metadata": {},
     "output_type": "execute_result"
    }
   ],
   "execution_count": 35
  },
  {
   "metadata": {
    "ExecuteTime": {
     "end_time": "2024-07-31T16:15:41.704089Z",
     "start_time": "2024-07-31T16:15:41.675087Z"
    }
   },
   "cell_type": "code",
   "source": [
    "# Identify columns with NaN values\n",
    "columns_with_nan = data.columns[data.isna().any()].tolist()\n",
    "\n",
    "# Set NaN values in these columns to 0\n",
    "data[columns_with_nan] = data[columns_with_nan].fillna(0)"
   ],
   "id": "c9b9fcac915767dd",
   "outputs": [],
   "execution_count": 40
  },
  {
   "metadata": {
    "ExecuteTime": {
     "end_time": "2024-07-31T16:18:29.601922Z",
     "start_time": "2024-07-31T16:18:29.582882Z"
    }
   },
   "cell_type": "code",
   "source": "data.isna().any()",
   "id": "a14a759ec6e84151",
   "outputs": [
    {
     "data": {
      "text/plain": [
       "Country                               False\n",
       "Region                                False\n",
       "Population                            False\n",
       "Area_(sq. mi.)                        False\n",
       "Pop_Density_(per sq. mi.)             False\n",
       "Coastline_(coast/area ratio)          False\n",
       "Net_migration                         False\n",
       "Infant_mortality_(per 1000 births)    False\n",
       "GDP_($ per capita)                    False\n",
       "Literacy_(%)                          False\n",
       "Phones_(per 1000)                     False\n",
       "Arable_(%)                            False\n",
       "Crops_(%)                             False\n",
       "Other_(%)                             False\n",
       "Climate                               False\n",
       "Birthrate                             False\n",
       "Deathrate                             False\n",
       "Agriculture                           False\n",
       "Industry                              False\n",
       "Service                               False\n",
       "dtype: bool"
      ]
     },
     "execution_count": 47,
     "metadata": {},
     "output_type": "execute_result"
    }
   ],
   "execution_count": 47
  },
  {
   "metadata": {},
   "cell_type": "markdown",
   "source": "Checking duplicated data",
   "id": "6115c25683cee83a"
  },
  {
   "metadata": {
    "ExecuteTime": {
     "end_time": "2024-07-31T16:20:23.901730Z",
     "start_time": "2024-07-31T16:20:23.892711Z"
    }
   },
   "cell_type": "code",
   "source": "data.duplicated().any()",
   "id": "4067db76d972b3e2",
   "outputs": [
    {
     "data": {
      "text/plain": [
       "False"
      ]
     },
     "execution_count": 49,
     "metadata": {},
     "output_type": "execute_result"
    }
   ],
   "execution_count": 49
  },
  {
   "metadata": {
    "ExecuteTime": {
     "end_time": "2024-07-31T16:21:35.710618Z",
     "start_time": "2024-07-31T16:21:35.688080Z"
    }
   },
   "cell_type": "code",
   "source": "data.dtypes",
   "id": "53e56428cb40bd54",
   "outputs": [
    {
     "data": {
      "text/plain": [
       "Country                                object\n",
       "Region                                 object\n",
       "Population                              int64\n",
       "Area_(sq. mi.)                          int64\n",
       "Pop_Density_(per sq. mi.)              object\n",
       "Coastline_(coast/area ratio)           object\n",
       "Net_migration                          object\n",
       "Infant_mortality_(per 1000 births)     object\n",
       "GDP_($ per capita)                    float64\n",
       "Literacy_(%)                           object\n",
       "Phones_(per 1000)                      object\n",
       "Arable_(%)                             object\n",
       "Crops_(%)                              object\n",
       "Other_(%)                              object\n",
       "Climate                                object\n",
       "Birthrate                              object\n",
       "Deathrate                              object\n",
       "Agriculture                            object\n",
       "Industry                               object\n",
       "Service                                object\n",
       "dtype: object"
      ]
     },
     "execution_count": 50,
     "metadata": {},
     "output_type": "execute_result"
    }
   ],
   "execution_count": 50
  },
  {
   "metadata": {
    "ExecuteTime": {
     "end_time": "2024-07-31T16:31:56.851419Z",
     "start_time": "2024-07-31T16:31:56.823352Z"
    }
   },
   "cell_type": "code",
   "source": "data.head()",
   "id": "d1466908ec2a337e",
   "outputs": [
    {
     "data": {
      "text/plain": [
       "           Country                               Region  Population  \\\n",
       "0     Afghanistan         ASIA (EX. NEAR EAST)             31056997   \n",
       "1         Albania   EASTERN EUROPE                          3581655   \n",
       "2         Algeria   NORTHERN AFRICA                        32930091   \n",
       "3  American Samoa   OCEANIA                                   57794   \n",
       "4         Andorra   WESTERN EUROPE                            71201   \n",
       "\n",
       "   Area_(sq. mi.) Pop_Density_(per sq. mi.) Coastline_(coast/area ratio)  \\\n",
       "0          647500                      48,0                         0,00   \n",
       "1           28748                     124,6                         1,26   \n",
       "2         2381740                      13,8                         0,04   \n",
       "3             199                     290,4                        58,29   \n",
       "4             468                     152,1                         0,00   \n",
       "\n",
       "  Net_migration Infant_mortality_(per 1000 births)  GDP_($ per capita)  \\\n",
       "0         23,06                             163,07               700.0   \n",
       "1         -4,93                              21,52              4500.0   \n",
       "2         -0,39                                 31              6000.0   \n",
       "3        -20,71                               9,27              8000.0   \n",
       "4           6,6                               4,05             19000.0   \n",
       "\n",
       "  Literacy_(%) Phones_(per 1000) Arable_(%) Crops_(%) Other_(%) Climate  \\\n",
       "0         36,0               3,2      12,13      0,22     87,65       1   \n",
       "1         86,5              71,2      21,09      4,42     74,49       3   \n",
       "2         70,0              78,1       3,22      0,25     96,53       1   \n",
       "3         97,0             259,5         10        15        75       2   \n",
       "4        100,0             497,2       2,22         0     97,78       3   \n",
       "\n",
       "  Birthrate Deathrate Agriculture Industry Service  \n",
       "0      46,6     20,34        0,38     0,24    0,38  \n",
       "1     15,11      5,22       0,232    0,188   0,579  \n",
       "2     17,14      4,61       0,101      0,6   0,298  \n",
       "3     22,46      3,27           0        0       0  \n",
       "4      8,71      6,25           0        0       0  "
      ],
      "text/html": [
       "<div>\n",
       "<style scoped>\n",
       "    .dataframe tbody tr th:only-of-type {\n",
       "        vertical-align: middle;\n",
       "    }\n",
       "\n",
       "    .dataframe tbody tr th {\n",
       "        vertical-align: top;\n",
       "    }\n",
       "\n",
       "    .dataframe thead th {\n",
       "        text-align: right;\n",
       "    }\n",
       "</style>\n",
       "<table border=\"1\" class=\"dataframe\">\n",
       "  <thead>\n",
       "    <tr style=\"text-align: right;\">\n",
       "      <th></th>\n",
       "      <th>Country</th>\n",
       "      <th>Region</th>\n",
       "      <th>Population</th>\n",
       "      <th>Area_(sq. mi.)</th>\n",
       "      <th>Pop_Density_(per sq. mi.)</th>\n",
       "      <th>Coastline_(coast/area ratio)</th>\n",
       "      <th>Net_migration</th>\n",
       "      <th>Infant_mortality_(per 1000 births)</th>\n",
       "      <th>GDP_($ per capita)</th>\n",
       "      <th>Literacy_(%)</th>\n",
       "      <th>Phones_(per 1000)</th>\n",
       "      <th>Arable_(%)</th>\n",
       "      <th>Crops_(%)</th>\n",
       "      <th>Other_(%)</th>\n",
       "      <th>Climate</th>\n",
       "      <th>Birthrate</th>\n",
       "      <th>Deathrate</th>\n",
       "      <th>Agriculture</th>\n",
       "      <th>Industry</th>\n",
       "      <th>Service</th>\n",
       "    </tr>\n",
       "  </thead>\n",
       "  <tbody>\n",
       "    <tr>\n",
       "      <th>0</th>\n",
       "      <td>Afghanistan</td>\n",
       "      <td>ASIA (EX. NEAR EAST)</td>\n",
       "      <td>31056997</td>\n",
       "      <td>647500</td>\n",
       "      <td>48,0</td>\n",
       "      <td>0,00</td>\n",
       "      <td>23,06</td>\n",
       "      <td>163,07</td>\n",
       "      <td>700.0</td>\n",
       "      <td>36,0</td>\n",
       "      <td>3,2</td>\n",
       "      <td>12,13</td>\n",
       "      <td>0,22</td>\n",
       "      <td>87,65</td>\n",
       "      <td>1</td>\n",
       "      <td>46,6</td>\n",
       "      <td>20,34</td>\n",
       "      <td>0,38</td>\n",
       "      <td>0,24</td>\n",
       "      <td>0,38</td>\n",
       "    </tr>\n",
       "    <tr>\n",
       "      <th>1</th>\n",
       "      <td>Albania</td>\n",
       "      <td>EASTERN EUROPE</td>\n",
       "      <td>3581655</td>\n",
       "      <td>28748</td>\n",
       "      <td>124,6</td>\n",
       "      <td>1,26</td>\n",
       "      <td>-4,93</td>\n",
       "      <td>21,52</td>\n",
       "      <td>4500.0</td>\n",
       "      <td>86,5</td>\n",
       "      <td>71,2</td>\n",
       "      <td>21,09</td>\n",
       "      <td>4,42</td>\n",
       "      <td>74,49</td>\n",
       "      <td>3</td>\n",
       "      <td>15,11</td>\n",
       "      <td>5,22</td>\n",
       "      <td>0,232</td>\n",
       "      <td>0,188</td>\n",
       "      <td>0,579</td>\n",
       "    </tr>\n",
       "    <tr>\n",
       "      <th>2</th>\n",
       "      <td>Algeria</td>\n",
       "      <td>NORTHERN AFRICA</td>\n",
       "      <td>32930091</td>\n",
       "      <td>2381740</td>\n",
       "      <td>13,8</td>\n",
       "      <td>0,04</td>\n",
       "      <td>-0,39</td>\n",
       "      <td>31</td>\n",
       "      <td>6000.0</td>\n",
       "      <td>70,0</td>\n",
       "      <td>78,1</td>\n",
       "      <td>3,22</td>\n",
       "      <td>0,25</td>\n",
       "      <td>96,53</td>\n",
       "      <td>1</td>\n",
       "      <td>17,14</td>\n",
       "      <td>4,61</td>\n",
       "      <td>0,101</td>\n",
       "      <td>0,6</td>\n",
       "      <td>0,298</td>\n",
       "    </tr>\n",
       "    <tr>\n",
       "      <th>3</th>\n",
       "      <td>American Samoa</td>\n",
       "      <td>OCEANIA</td>\n",
       "      <td>57794</td>\n",
       "      <td>199</td>\n",
       "      <td>290,4</td>\n",
       "      <td>58,29</td>\n",
       "      <td>-20,71</td>\n",
       "      <td>9,27</td>\n",
       "      <td>8000.0</td>\n",
       "      <td>97,0</td>\n",
       "      <td>259,5</td>\n",
       "      <td>10</td>\n",
       "      <td>15</td>\n",
       "      <td>75</td>\n",
       "      <td>2</td>\n",
       "      <td>22,46</td>\n",
       "      <td>3,27</td>\n",
       "      <td>0</td>\n",
       "      <td>0</td>\n",
       "      <td>0</td>\n",
       "    </tr>\n",
       "    <tr>\n",
       "      <th>4</th>\n",
       "      <td>Andorra</td>\n",
       "      <td>WESTERN EUROPE</td>\n",
       "      <td>71201</td>\n",
       "      <td>468</td>\n",
       "      <td>152,1</td>\n",
       "      <td>0,00</td>\n",
       "      <td>6,6</td>\n",
       "      <td>4,05</td>\n",
       "      <td>19000.0</td>\n",
       "      <td>100,0</td>\n",
       "      <td>497,2</td>\n",
       "      <td>2,22</td>\n",
       "      <td>0</td>\n",
       "      <td>97,78</td>\n",
       "      <td>3</td>\n",
       "      <td>8,71</td>\n",
       "      <td>6,25</td>\n",
       "      <td>0</td>\n",
       "      <td>0</td>\n",
       "      <td>0</td>\n",
       "    </tr>\n",
       "  </tbody>\n",
       "</table>\n",
       "</div>"
      ]
     },
     "execution_count": 52,
     "metadata": {},
     "output_type": "execute_result"
    }
   ],
   "execution_count": 52
  },
  {
   "metadata": {},
   "cell_type": "markdown",
   "source": "##### Bar chart for first 20 countries in dataset given visualizing data on popultion.",
   "id": "c8d4a487ac809bb0"
  },
  {
   "metadata": {
    "ExecuteTime": {
     "end_time": "2024-07-31T16:46:12.365779Z",
     "start_time": "2024-07-31T16:46:11.901923Z"
    }
   },
   "cell_type": "code",
   "source": [
    "first_20_rows = data.head(20)\n",
    "\n",
    "X_countries = first_20_rows['Country']\n",
    "Y_population = first_20_rows['Population']\n",
    "\n",
    "plt.figure(figsize=(10, 8))\n",
    "plt.bar(X_countries, Y_population)\n",
    "plt.xticks(rotation=90)\n",
    "\n",
    "plt.title('Population of First 20 Countries')\n",
    "plt.xlabel(\"Country\")\n",
    "plt.ylabel(\"Population\")\n",
    "\n",
    "plt.show()"
   ],
   "id": "ddcd1251c474d2ee",
   "outputs": [
    {
     "data": {
      "text/plain": [
       "<Figure size 720x576 with 1 Axes>"
      ],
      "image/png": "[encoded data removed]"
     },
     "metadata": {
      "needs_background": "light"
     },
     "output_type": "display_data"
    }
   ],
   "execution_count": 60
  },
  {
   "metadata": {},
   "cell_type": "markdown",
   "source": "##### Line graph of Phones (per 1000) against the population data",
   "id": "f30d48c61b6b129e"
  },
  {
   "metadata": {
    "ExecuteTime": {
     "end_time": "2024-07-31T17:05:44.555009Z",
     "start_time": "2024-07-31T17:05:44.529862Z"
    }
   },
   "cell_type": "code",
   "source": [
    "# Remove commas\n",
    "data['Phones_(per 1000)'] = data['Phones_(per 1000)'].str.replace(',', '')\n",
    "\n",
    "# Replace 'NaN' strings and actual NaNs with a default value (e.g., 0)\n",
    "data['Phones_(per 1000)'] = pd.to_numeric(data['Phones_(per 1000)'], errors='coerce').fillna(0).astype(int)\n"
   ],
   "id": "9ca51eac63f6ee93",
   "outputs": [],
   "execution_count": 68
  },
  {
   "metadata": {
    "ExecuteTime": {
     "end_time": "2024-07-31T17:06:48.032549Z",
     "start_time": "2024-07-31T17:06:48.014113Z"
    }
   },
   "cell_type": "code",
   "source": "data.dtypes",
   "id": "411ec3a79cd9e898",
   "outputs": [
    {
     "data": {
      "text/plain": [
       "Country                                object\n",
       "Region                                 object\n",
       "Population                              int64\n",
       "Area_(sq. mi.)                          int64\n",
       "Pop_Density_(per sq. mi.)              object\n",
       "Coastline_(coast/area ratio)           object\n",
       "Net_migration                          object\n",
       "Infant_mortality_(per 1000 births)     object\n",
       "GDP_($ per capita)                    float64\n",
       "Literacy_(%)                           object\n",
       "Phones_(per 1000)                       int32\n",
       "Arable_(%)                             object\n",
       "Crops_(%)                              object\n",
       "Other_(%)                              object\n",
       "Climate                                object\n",
       "Birthrate                              object\n",
       "Deathrate                              object\n",
       "Agriculture                            object\n",
       "Industry                               object\n",
       "Service                                object\n",
       "dtype: object"
      ]
     },
     "execution_count": 71,
     "metadata": {},
     "output_type": "execute_result"
    }
   ],
   "execution_count": 71
  },
  {
   "metadata": {
    "ExecuteTime": {
     "end_time": "2024-07-31T17:07:36.954822Z",
     "start_time": "2024-07-31T17:07:36.738178Z"
    }
   },
   "cell_type": "code",
   "source": [
    "plt.figure(figsize=(10, 8))\n",
    "plt.plot(data['Population'], data['Phones_(per 1000)'], marker='o')\n",
    "plt.title('Phones (per 1000) vs Population')\n",
    "plt.xlabel('Population')\n",
    "plt.ylabel('Phones (per 1000)')\n",
    "plt.show()"
   ],
   "id": "eb7f2c72a519f9aa",
   "outputs": [
    {
     "data": {
      "text/plain": [
       "<Figure size 720x576 with 1 Axes>"
      ],
      "image/png": "[encoded data removed]"
     },
     "metadata": {
      "needs_background": "light"
     },
     "output_type": "display_data"
    }
   ],
   "execution_count": 72
  },
  {
   "metadata": {},
   "cell_type": "markdown",
   "source": "##### Literacy rate against population",
   "id": "5682b069b00dd9b"
  },
  {
   "metadata": {
    "ExecuteTime": {
     "end_time": "2024-07-31T17:22:50.158552Z",
     "start_time": "2024-07-31T17:22:50.087721Z"
    }
   },
   "cell_type": "code",
   "source": "",
   "id": "774d05f70a8758c6",
   "outputs": [
    {
     "ename": "AttributeError",
     "evalue": "module 'pandas' has no attribute 'dtypes'",
     "output_type": "error",
     "traceback": [
      "\u001B[1;31m---------------------------------------------------------------------------\u001B[0m",
      "\u001B[1;31mAttributeError\u001B[0m                            Traceback (most recent call last)",
      "Input \u001B[1;32mIn [80]\u001B[0m, in \u001B[0;36m<cell line: 1>\u001B[1;34m()\u001B[0m\n\u001B[1;32m----> 1\u001B[0m \u001B[43mpd\u001B[49m\u001B[38;5;241;43m.\u001B[39;49m\u001B[43mdtypes\u001B[49m(data[\u001B[38;5;124m\"\u001B[39m\u001B[38;5;124mLiteracy_(\u001B[39m\u001B[38;5;124m%\u001B[39m\u001B[38;5;124m)\u001B[39m\u001B[38;5;124m\"\u001B[39m])\n",
      "File \u001B[1;32m~\\anaconda3\\lib\\site-packages\\pandas\\__init__.py:261\u001B[0m, in \u001B[0;36m__getattr__\u001B[1;34m(name)\u001B[0m\n\u001B[0;32m    257\u001B[0m     \u001B[38;5;28;01mfrom\u001B[39;00m \u001B[38;5;21;01mpandas\u001B[39;00m\u001B[38;5;21;01m.\u001B[39;00m\u001B[38;5;21;01mcore\u001B[39;00m\u001B[38;5;21;01m.\u001B[39;00m\u001B[38;5;21;01marrays\u001B[39;00m\u001B[38;5;21;01m.\u001B[39;00m\u001B[38;5;21;01msparse\u001B[39;00m \u001B[38;5;28;01mimport\u001B[39;00m SparseArray \u001B[38;5;28;01mas\u001B[39;00m _SparseArray\n\u001B[0;32m    259\u001B[0m     \u001B[38;5;28;01mreturn\u001B[39;00m _SparseArray\n\u001B[1;32m--> 261\u001B[0m \u001B[38;5;28;01mraise\u001B[39;00m \u001B[38;5;167;01mAttributeError\u001B[39;00m(\u001B[38;5;124mf\u001B[39m\u001B[38;5;124m\"\u001B[39m\u001B[38;5;124mmodule \u001B[39m\u001B[38;5;124m'\u001B[39m\u001B[38;5;124mpandas\u001B[39m\u001B[38;5;124m'\u001B[39m\u001B[38;5;124m has no attribute \u001B[39m\u001B[38;5;124m'\u001B[39m\u001B[38;5;132;01m{\u001B[39;00mname\u001B[38;5;132;01m}\u001B[39;00m\u001B[38;5;124m'\u001B[39m\u001B[38;5;124m\"\u001B[39m)\n",
      "\u001B[1;31mAttributeError\u001B[0m: module 'pandas' has no attribute 'dtypes'"
     ]
    }
   ],
   "execution_count": 80
  },
  {
   "metadata": {},
   "cell_type": "code",
   "outputs": [],
   "execution_count": null,
   "source": "",
   "id": "9cdb52faac9b53cc"
  }
 ],
 "metadata": {
  "kernelspec": {
   "display_name": "Python 3",
   "language": "python",
   "name": "python3"
  },
  "language_info": {
   "codemirror_mode": {
    "name": "ipython",
    "version": 2
   },
   "file_extension": ".py",
   "mimetype": "text/x-python",
   "name": "python",
   "nbconvert_exporter": "python",
   "pygments_lexer": "ipython2",
   "version": "2.7.6"
  }
 },
 "nbformat": 4,
 "nbformat_minor": 5
}
